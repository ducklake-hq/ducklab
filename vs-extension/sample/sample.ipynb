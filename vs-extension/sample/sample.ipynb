{
 "cells": [
  {
   "cell_type": "markdown",
   "metadata": {},
   "source": [
    "# Directing notebook cell execution output to a custom VS Code notebook renderer\n",
    "\n",
    "Switch the cell output rendering by clicking on the [...] button next to the cell output and then _Change Presentation_. When you select the `x-application/github-issues`, the custom renderer will be invoked.\n",
    "\n",
    "If you are getting _Renderer not available_ message, you are not running/debugging this sample extension.\n",
    "\n",
    "## Using `IPython.display.display` function and mimetypes"
   ]
  },
  {
   "cell_type": "code",
   "execution_count": 1,
   "metadata": {},
   "outputs": [
    {
     "data": {
      "application/json": [
       {
        "body": "Bug A description...",
        "title": "Bug A",
        "url": "https://github.com/project/repo/issue/123"
       },
       {
        "body": "Bug B description...",
        "title": "Bug B",
        "url": "https://github.com/project/repo/issue/456"
       }
      ],
      "text/html": [
       "<h1>[html] Bug A, Bug B</h1>"
      ],
      "text/plain": [
       "[plain] https://github.com/project/repo/issue/123, https://github.com/project/repo/issue/456"
      ],
      "x-application/github-issues": "[{\"url\": \"https://github.com/project/repo/issue/123\", \"title\": \"Bug A\", \"body\": \"Bug A description...\"}, {\"url\": \"https://github.com/project/repo/issue/456\", \"title\": \"Bug B\", \"body\": \"Bug B description...\"}]"
     },
     "metadata": {},
     "output_type": "display_data"
    }
   ],
   "source": [
    "from IPython import display\n",
    "import json\n",
    "\n",
    "issues = [{\n",
    "        \"url\": \"https://github.com/project/repo/issue/123\",\n",
    "        \"title\": \"Bug A\",\n",
    "        \"body\": \"Bug A description...\"\n",
    "    },\n",
    "    {\n",
    "        \"url\": \"https://github.com/project/repo/issue/456\",\n",
    "        \"title\": \"Bug B\",\n",
    "        \"body\": \"Bug B description...\"\n",
    "    }]\n",
    "\n",
    "display.display({\n",
    "    \"x-application/github-issues\": json.dumps(issues),\n",
    "    \"application/json\": json.dumps(issues, indent=2),\n",
    "    \"text/html\": \"<h1>[html] \" + \", \".join([i[\"title\"] for i in issues]) + \"</h1>\",\n",
    "    \"text/plain\": \"[plain] \" + \", \".join([i[\"url\"] for i in issues]),\n",
    "}, raw=True)"
   ]
  },
  {
   "cell_type": "markdown",
   "metadata": {},
   "source": [
    "# Using the `IPython.display.display` function with an object"
   ]
  },
  {
   "cell_type": "code",
   "execution_count": 3,
   "metadata": {},
   "outputs": [
    {
     "data": {
      "text/html": [
       "<h1>[html]</h1><li>Bug A</li><li>Bug B</li>"
      ],
      "text/plain": [
       "[plain]\n",
       "https://github.com/project/repo/issue/123\n",
       "https://github.com/project/repo/issue/456"
      ],
      "x-application/github-issues": "[{\"url\": \"https://github.com/project/repo/issue/123\", \"title\": \"Bug A\", \"body\": \"Bug A description...\"}, {\"url\": \"https://github.com/project/repo/issue/456\", \"title\": \"Bug B\", \"body\": \"Bug B description...\"}]"
     },
     "metadata": {},
     "output_type": "display_data"
    }
   ],
   "source": [
    "from typing import List\n",
    "from dataclasses import dataclass, is_dataclass, asdict\n",
    "\n",
    "@dataclass\n",
    "class GitHubIssue:\n",
    "    url: str\n",
    "    title: str\n",
    "    body: str\n",
    "\n",
    "issues = [GitHubIssue(\"https://github.com/project/repo/issue/123\", \"Bug A\", \"Bug A description...\"),\n",
    "    GitHubIssue(\"https://github.com/project/repo/issue/456\", \"Bug B\", \"Bug B description...\")]\n",
    "\n",
    "class DataClassJSONEncoder(json.JSONEncoder):\n",
    "    \"\"\" Overrides the json serialization of dataclasses \"\"\"\n",
    "    def default(s, o):\n",
    "        if is_dataclass(o):\n",
    "            return asdict(o)\n",
    "        return super().default(o)\n",
    "\n",
    "class GitHubIssues(object):\n",
    "    def __init__(self, issues: List[GitHubIssue]):\n",
    "        self.issues = issues\n",
    "\n",
    "    def json_dump(self) -> str:\n",
    "        return json.dumps(self.issues, cls=DataClassJSONEncoder)\n",
    "\n",
    "    def _repr_mimebundle_(self, include, exclude):\n",
    "        return {\n",
    "            \"text/plain\": \"[plain]\\n\" + \"\\n\".join([i.url for i in self.issues]),\n",
    "            \"text/html\": \"<h1>[html]</h1>\" + \"\".join(['<li>' + i.title + '</li>' for i in self.issues]),\n",
    "            \"x-application/github-issues\": self.json_dump(),\n",
    "        }\n",
    "\n",
    "display.display(GitHubIssues(issues))"
   ]
  },
  {
   "cell_type": "code",
   "execution_count": 1,
   "metadata": {},
   "outputs": [
    {
     "data": {
      "text/html": [
       "<div>\n",
       "<style scoped>\n",
       "    .dataframe tbody tr th:only-of-type {\n",
       "        vertical-align: middle;\n",
       "    }\n",
       "\n",
       "    .dataframe tbody tr th {\n",
       "        vertical-align: top;\n",
       "    }\n",
       "\n",
       "    .dataframe thead th {\n",
       "        text-align: right;\n",
       "    }\n",
       "</style>\n",
       "<table border=\"1\" class=\"dataframe\">\n",
       "  <thead>\n",
       "    <tr style=\"text-align: right;\">\n",
       "      <th></th>\n",
       "      <th>0</th>\n",
       "    </tr>\n",
       "  </thead>\n",
       "  <tbody>\n",
       "    <tr>\n",
       "      <th>0</th>\n",
       "      <td>asd</td>\n",
       "    </tr>\n",
       "    <tr>\n",
       "      <th>1</th>\n",
       "      <td>asd</td>\n",
       "    </tr>\n",
       "    <tr>\n",
       "      <th>2</th>\n",
       "      <td>asd</td>\n",
       "    </tr>\n",
       "  </tbody>\n",
       "</table>\n",
       "</div>"
      ],
      "text/plain": [
       "     0\n",
       "0  asd\n",
       "1  asd\n",
       "2  asd"
      ]
     },
     "execution_count": 1,
     "metadata": {},
     "output_type": "execute_result"
    }
   ],
   "source": [
    "import pandas as pd\n",
    "\n",
    "pd.DataFrame([\"asd\", \"asd\", \"asd\"])"
   ]
  },
  {
   "cell_type": "markdown",
   "metadata": {},
   "source": []
  },
  {
   "cell_type": "code",
   "execution_count": 3,
   "metadata": {},
   "outputs": [
    {
     "data": {
      "text/html": [
       "<div>\n",
       "<style scoped>\n",
       "    .dataframe tbody tr th:only-of-type {\n",
       "        vertical-align: middle;\n",
       "    }\n",
       "\n",
       "    .dataframe tbody tr th {\n",
       "        vertical-align: top;\n",
       "    }\n",
       "\n",
       "    .dataframe thead th {\n",
       "        text-align: right;\n",
       "    }\n",
       "</style>\n",
       "<table border=\"1\" class=\"dataframe\">\n",
       "  <thead>\n",
       "    <tr style=\"text-align: right;\">\n",
       "      <th></th>\n",
       "      <th>id</th>\n",
       "      <th>first_name</th>\n",
       "      <th>last_name</th>\n",
       "      <th>email</th>\n",
       "      <th>gender</th>\n",
       "      <th>ip_address</th>\n",
       "    </tr>\n",
       "  </thead>\n",
       "  <tbody>\n",
       "    <tr>\n",
       "      <th>0</th>\n",
       "      <td>1</td>\n",
       "      <td>Kettie</td>\n",
       "      <td>Smissen</td>\n",
       "      <td>ksmissen0@msu.edu</td>\n",
       "      <td>Female</td>\n",
       "      <td>161.123.206.36</td>\n",
       "    </tr>\n",
       "    <tr>\n",
       "      <th>1</th>\n",
       "      <td>2</td>\n",
       "      <td>Gusella</td>\n",
       "      <td>Giscken</td>\n",
       "      <td>ggiscken1@etsy.com</td>\n",
       "      <td>Female</td>\n",
       "      <td>206.32.30.18</td>\n",
       "    </tr>\n",
       "    <tr>\n",
       "      <th>2</th>\n",
       "      <td>3</td>\n",
       "      <td>Franciska</td>\n",
       "      <td>Antognoni</td>\n",
       "      <td>fantognoni2@netvibes.com</td>\n",
       "      <td>Female</td>\n",
       "      <td>154.173.230.135</td>\n",
       "    </tr>\n",
       "    <tr>\n",
       "      <th>3</th>\n",
       "      <td>4</td>\n",
       "      <td>Janel</td>\n",
       "      <td>Lemar</td>\n",
       "      <td>jlemar3@bandcamp.com</td>\n",
       "      <td>Female</td>\n",
       "      <td>58.80.228.85</td>\n",
       "    </tr>\n",
       "    <tr>\n",
       "      <th>4</th>\n",
       "      <td>5</td>\n",
       "      <td>Christoph</td>\n",
       "      <td>Silmon</td>\n",
       "      <td>csilmon4@elegantthemes.com</td>\n",
       "      <td>Male</td>\n",
       "      <td>63.64.255.149</td>\n",
       "    </tr>\n",
       "    <tr>\n",
       "      <th>...</th>\n",
       "      <td>...</td>\n",
       "      <td>...</td>\n",
       "      <td>...</td>\n",
       "      <td>...</td>\n",
       "      <td>...</td>\n",
       "      <td>...</td>\n",
       "    </tr>\n",
       "    <tr>\n",
       "      <th>995</th>\n",
       "      <td>996</td>\n",
       "      <td>Normie</td>\n",
       "      <td>Hambelton</td>\n",
       "      <td>nhambeltonrn@123-reg.co.uk</td>\n",
       "      <td>Male</td>\n",
       "      <td>180.240.158.234</td>\n",
       "    </tr>\n",
       "    <tr>\n",
       "      <th>996</th>\n",
       "      <td>997</td>\n",
       "      <td>Phoebe</td>\n",
       "      <td>Bollam</td>\n",
       "      <td>pbollamro@mashable.com</td>\n",
       "      <td>Female</td>\n",
       "      <td>246.113.142.213</td>\n",
       "    </tr>\n",
       "    <tr>\n",
       "      <th>997</th>\n",
       "      <td>998</td>\n",
       "      <td>Gibb</td>\n",
       "      <td>Primmer</td>\n",
       "      <td>gprimmerrp@skyrock.com</td>\n",
       "      <td>Male</td>\n",
       "      <td>250.198.116.10</td>\n",
       "    </tr>\n",
       "    <tr>\n",
       "      <th>998</th>\n",
       "      <td>999</td>\n",
       "      <td>Aldin</td>\n",
       "      <td>Plumer</td>\n",
       "      <td>aplumerrq@qq.com</td>\n",
       "      <td>Male</td>\n",
       "      <td>165.146.218.50</td>\n",
       "    </tr>\n",
       "    <tr>\n",
       "      <th>999</th>\n",
       "      <td>1000</td>\n",
       "      <td>Vanya</td>\n",
       "      <td>Hollingby</td>\n",
       "      <td>vhollingbyrr@yelp.com</td>\n",
       "      <td>Female</td>\n",
       "      <td>240.8.33.124</td>\n",
       "    </tr>\n",
       "  </tbody>\n",
       "</table>\n",
       "<p>1000 rows × 6 columns</p>\n",
       "</div>"
      ],
      "text/plain": [
       "       id first_name  last_name                       email  gender  \\\n",
       "0       1     Kettie    Smissen           ksmissen0@msu.edu  Female   \n",
       "1       2    Gusella    Giscken          ggiscken1@etsy.com  Female   \n",
       "2       3  Franciska  Antognoni    fantognoni2@netvibes.com  Female   \n",
       "3       4      Janel      Lemar        jlemar3@bandcamp.com  Female   \n",
       "4       5  Christoph     Silmon  csilmon4@elegantthemes.com    Male   \n",
       "..    ...        ...        ...                         ...     ...   \n",
       "995   996     Normie  Hambelton  nhambeltonrn@123-reg.co.uk    Male   \n",
       "996   997     Phoebe     Bollam      pbollamro@mashable.com  Female   \n",
       "997   998       Gibb    Primmer      gprimmerrp@skyrock.com    Male   \n",
       "998   999      Aldin     Plumer            aplumerrq@qq.com    Male   \n",
       "999  1000      Vanya  Hollingby       vhollingbyrr@yelp.com  Female   \n",
       "\n",
       "          ip_address  \n",
       "0     161.123.206.36  \n",
       "1       206.32.30.18  \n",
       "2    154.173.230.135  \n",
       "3       58.80.228.85  \n",
       "4      63.64.255.149  \n",
       "..               ...  \n",
       "995  180.240.158.234  \n",
       "996  246.113.142.213  \n",
       "997   250.198.116.10  \n",
       "998   165.146.218.50  \n",
       "999     240.8.33.124  \n",
       "\n",
       "[1000 rows x 6 columns]"
      ]
     },
     "execution_count": 3,
     "metadata": {},
     "output_type": "execute_result"
    }
   ],
   "source": [
    "pd.read_csv(\"C:\\\\Users\\\\Hassan.Akbar\\\\Documents\\\\VsCode\\\\ducklab\\\\extension\\\\sample\\\\data\\\\MOCK_DATA.csv\")"
   ]
  },
  {
   "cell_type": "markdown",
   "metadata": {},
   "source": []
  }
 ],
 "metadata": {
  "kernelspec": {
   "display_name": "whisperx",
   "language": "python",
   "name": "python3"
  },
  "language_info": {
   "codemirror_mode": {
    "name": "ipython",
    "version": 3
   },
   "file_extension": ".py",
   "mimetype": "text/x-python",
   "name": "python",
   "nbconvert_exporter": "python",
   "pygments_lexer": "ipython3",
   "version": "3.10.14"
  },
  "orig_nbformat": 4
 },
 "nbformat": 4,
 "nbformat_minor": 2
}
